{
  "cells": [
    {
      "cell_type": "markdown",
      "metadata": {
        "id": "view-in-github",
        "colab_type": "text"
      },
      "source": [
        "<a href=\"https://colab.research.google.com/github/Luwcca/Brainnest-Assignments/blob/main/Conditionals.ipynb\" target=\"_parent\"><img src=\"https://colab.research.google.com/assets/colab-badge.svg\" alt=\"Open In Colab\"/></a>"
      ]
    },
    {
      "cell_type": "markdown",
      "metadata": {
        "id": "2RYB33egmTLZ"
      },
      "source": [
        "1. Write a program that prompts the user for a string and checks whether the string is a palindrome (i.e., the string reads the same forward and backward)."
      ]
    },
    {
      "cell_type": "code",
      "execution_count": null,
      "metadata": {
        "colab": {
          "base_uri": "https://localhost:8080/"
        },
        "id": "uhSpA8ZTmTLc",
        "outputId": "337b9f2e-b975-4b38-ac7e-8f68bd7f7145"
      },
      "outputs": [
        {
          "output_type": "stream",
          "name": "stdout",
          "text": [
            "Enter a string:los\n",
            "Not a palindrome\n"
          ]
        }
      ],
      "source": [
        "string=input((\"Enter a string:\"))\n",
        "if(string==string[::-1]):\n",
        "      print(\"The string is a palindrome\")\n",
        "else:\n",
        "      print(\"Not a palindrome\")"
      ]
    },
    {
      "cell_type": "markdown",
      "metadata": {
        "id": "uIeD-bvAmTLe"
      },
      "source": [
        "2. Write a program that takes in a list of integers and returns the sum of all even numbers in the list."
      ]
    },
    {
      "cell_type": "code",
      "execution_count": null,
      "metadata": {
        "id": "CoUB4sRxmTLf",
        "colab": {
          "base_uri": "https://localhost:8080/"
        },
        "outputId": "23ef1bc2-345d-4b6a-a6e1-c96fd40e2bb9"
      },
      "outputs": [
        {
          "output_type": "stream",
          "name": "stdout",
          "text": [
            "The sum of all even numbers is equal to: 42\n"
          ]
        }
      ],
      "source": [
        "numlist = [1,2,3,4,5,6,7,8,9,10,12]\n",
        "cont = 0\n",
        "\n",
        "for x in numlist:\n",
        "  if x % 2 == 0:\n",
        "    cont += x\n",
        "\n",
        "print(\"The sum of all even numbers is equal to:\",cont)"
      ]
    },
    {
      "cell_type": "markdown",
      "metadata": {
        "id": "UQOEZ1WUmTLf"
      },
      "source": [
        "3. Write a program that prompts the user for their age and checks whether they are old enough to vote (i.e., 18 years old or older)."
      ]
    },
    {
      "cell_type": "code",
      "execution_count": null,
      "metadata": {
        "id": "jMOfH0l5mTLg",
        "colab": {
          "base_uri": "https://localhost:8080/"
        },
        "outputId": "de8e3b5b-a0ba-4ad9-d3ab-44deff2c4690"
      },
      "outputs": [
        {
          "output_type": "stream",
          "name": "stdout",
          "text": [
            "How old are you? 18\n",
            "You are old enough to vote!\n"
          ]
        }
      ],
      "source": [
        "age = int(input(\"How old are you? \"))\n",
        "\n",
        "if age >= 18:\n",
        "  print(\"You are old enough to vote!\")\n",
        "else:\n",
        "  print(\"You are not old enough to vote!\")\n"
      ]
    },
    {
      "cell_type": "markdown",
      "metadata": {
        "id": "2c0Ka0l7mTLg"
      },
      "source": [
        "4. Write a program that takes in a list of integers and returns the largest number in the list that is also divisible by 3."
      ]
    },
    {
      "cell_type": "code",
      "execution_count": null,
      "metadata": {
        "id": "4wj0lc8LmTLh",
        "colab": {
          "base_uri": "https://localhost:8080/"
        },
        "outputId": "e7f344ea-4b63-4d51-845d-06d2399efb16"
      },
      "outputs": [
        {
          "output_type": "stream",
          "name": "stdout",
          "text": [
            "The largest number in the list that is also divisible by 3 is: 30\n"
          ]
        }
      ],
      "source": [
        "numlist = [1, 2, 12, 50, 23, 43, 30, 17]\n",
        "largest = 0\n",
        "\n",
        "for i in numlist:\n",
        "  if largest < i and i%3 == 0:\n",
        "    largest = i\n",
        "\n",
        "print(\"The largest number in the list that is also divisible by 3 is:\", largest)"
      ]
    },
    {
      "cell_type": "markdown",
      "metadata": {
        "id": "ws4uKKjLmTLh"
      },
      "source": [
        "5. Write a program that prompts the user for a number and checks whether the number is a prime number (i.e., only divisible by 1 and itself)."
      ]
    },
    {
      "cell_type": "code",
      "execution_count": null,
      "metadata": {
        "id": "NTp2SL2GmTLh",
        "colab": {
          "base_uri": "https://localhost:8080/"
        },
        "outputId": "6850c54c-d2c2-4d6c-befd-ef179d9b659f"
      },
      "outputs": [
        {
          "output_type": "stream",
          "name": "stdout",
          "text": [
            "Enter a prime number: 10\n",
            "Is not prime\n"
          ]
        }
      ],
      "source": [
        "num = int(input(\"Enter a prime number: \"))\n",
        "\n",
        "prime = True\n",
        "if num == 1:\n",
        "  prime = False\n",
        "elif num > 2 :\n",
        "  for i in range(2,num):\n",
        "    if num%i == 0 and  i != num:\n",
        "      prime = False\n",
        "      break\n",
        "\n",
        "\n",
        "if prime == True:\n",
        "  print(\"Is prime\")\n",
        "else:\n",
        "  print(\"Is not prime\")"
      ]
    }
  ],
  "metadata": {
    "kernelspec": {
      "display_name": "Python 3",
      "language": "python",
      "name": "python3"
    },
    "language_info": {
      "name": "python",
      "version": "3.10.10"
    },
    "orig_nbformat": 4,
    "vscode": {
      "interpreter": {
        "hash": "f7a5be651532581cb44625d52e18aa1d390cab54bc6b51099d8c30bea9b68219"
      }
    },
    "colab": {
      "provenance": [],
      "include_colab_link": true
    }
  },
  "nbformat": 4,
  "nbformat_minor": 0
}