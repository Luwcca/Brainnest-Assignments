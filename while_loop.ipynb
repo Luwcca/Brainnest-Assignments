{
  "cells": [
    {
      "cell_type": "markdown",
      "metadata": {
        "id": "view-in-github",
        "colab_type": "text"
      },
      "source": [
        "<a href=\"https://colab.research.google.com/github/Luwcca/Brainnest-Assignments/blob/main/while_loop.ipynb\" target=\"_parent\"><img src=\"https://colab.research.google.com/assets/colab-badge.svg\" alt=\"Open In Colab\"/></a>"
      ]
    },
    {
      "cell_type": "markdown",
      "metadata": {
        "id": "2R3g59-B2CAB"
      },
      "source": [
        "1. Create a while loop that repeatedly takes user input and adds the input to a list until the user enters \"done\"."
      ]
    },
    {
      "cell_type": "code",
      "execution_count": null,
      "metadata": {
        "vscode": {
          "languageId": "plaintext"
        },
        "colab": {
          "base_uri": "https://localhost:8080/"
        },
        "id": "c_uiL_dj2CAD",
        "outputId": "1b59aa6c-3dbe-4b4c-e664-0787d9905289"
      },
      "outputs": [
        {
          "output_type": "stream",
          "name": "stdout",
          "text": [
            "Enter user input: done\n",
            "You have inputed: ['done']\n"
          ]
        }
      ],
      "source": [
        "user_list = []\n",
        "\n",
        "while True:\n",
        "  y = input('Enter user input: ')\n",
        "\n",
        "  user_list.append(y)\n",
        "\n",
        "  if y == \"done\":\n",
        "    break\n",
        "\n",
        "\n",
        "print(\"You have inputed:\", user_list)\n"
      ]
    },
    {
      "cell_type": "markdown",
      "metadata": {
        "id": "OF-08F0M2CAE"
      },
      "source": [
        "2. Create a while loop that generates random numbers and adds them to a list until the sum of all numbers in the list is greater than 100."
      ]
    },
    {
      "cell_type": "code",
      "execution_count": null,
      "metadata": {
        "vscode": {
          "languageId": "plaintext"
        },
        "colab": {
          "base_uri": "https://localhost:8080/"
        },
        "id": "BDyAEwS12CAE",
        "outputId": "2fe5ac4d-8cf6-47b0-e52c-241b5f326099"
      },
      "outputs": [
        {
          "output_type": "stream",
          "name": "stdout",
          "text": [
            "You have inputed: [0.6493833239764272, 0.23522460016287405, 0.6054919496429373, 0.08544648200672, 0.9007461814949016, 0.36635123140981574, 0.4139324552781314, 0.33782048038407664, 0.48327206678786017, 0.7570381014091508, 0.49374246765028273, 0.4073927326329386, 0.23586005148499334, 0.8404391647572858, 0.047038011871115004, 0.11778652586091531, 0.6773596426968715, 0.2907828376426873, 0.7297190142546665, 0.1360499999824406, 0.2329172468400078, 0.3405412495318505, 0.7955235936379387, 0.09195577779127606, 0.34776508466935097, 0.06307237623374151, 0.36612064678915124, 0.00308753121938965, 0.5802248384518296, 0.7201732339167598, 0.0030440605370422036, 0.09174613258541309, 0.37485249438800883, 0.2132482461009948, 0.20649040727803303, 0.09740669892409004, 0.6017818844370701, 0.8200633676265616, 0.7641483038612342, 0.22277924952940031, 0.5779267886343774, 0.09643884791902047, 0.9544393522371324, 0.9345106267030612, 0.8615479166173792, 0.8669002061608979, 0.39130357081953704, 0.14315875753487084, 0.8124814833608839, 0.5749998102739163, 0.4648763890095915, 0.7464354681228839, 0.4800571547214372, 0.07536900560327642, 0.46673029815495604, 0.6124880373029054, 0.9355390446162187, 0.5834035725423841, 0.4425072353763515, 0.4422513704304005, 0.036425591074843555, 0.8128508413841301, 0.43168526007097263, 0.6482469656475848, 0.6929721346479464, 0.2668794164876117, 0.8102530381114482, 0.1872838031339794, 0.5012986943111424, 0.9216046576510196, 0.7804136194175538, 0.905902629193628, 0.7429737041089085, 0.572983333860807, 0.1875204354470067, 0.6131239727558115, 0.35798327375961136, 0.04030338382927379, 0.29848018635891416, 0.36360099329800744, 0.38642299588360407, 0.13002331749768103, 0.18584548968982206, 0.022967851727124566, 0.17344308929933572, 0.0640905648054727, 0.5332895706309216, 0.8987619927156808, 0.5016280979313497, 0.19184603021588886, 0.6672638112834729, 0.9585553985118884, 0.2500063658394568, 0.020295284027777583, 0.11123003237118145, 0.867643555760548, 0.2175621108776553, 0.22115116945966307, 0.29909676284711273, 0.3680750606751261, 0.8096052679808077, 0.09762599206888767, 0.9398939022462779, 0.34092437113405305, 0.49334130652620634, 0.1711591310918884, 0.5637558495025702, 0.7280258155538974, 0.34950594594666273, 0.6646454606595402, 0.7035247989105692, 0.08298124967797216, 0.9887617352356886, 0.39745135638551154, 0.4215697679685231, 0.4258868082185595, 0.00174244718358052, 0.03179364337728896, 0.22289220674716814, 0.873852060961724, 0.4184267418329536, 0.7498694842409916, 0.37319713528421217, 0.24189509819412258, 0.5124640929576185, 0.6462969313317686, 0.9472177633037172, 0.2601066315953472, 0.8497087135581575, 0.8730003760400002, 0.057095530447789256, 0.2792579359671601, 0.7179903874992126, 0.6163677726536073, 0.5838232735097145, 0.19404630859424987, 0.45244955636153905, 0.20004306671436745, 0.14497531297551747, 0.2952819234611451, 0.3993211347699075, 0.729671614523778, 0.07152529739219649, 0.6829005727021604, 0.507194396407348, 0.660079437068521, 0.9191093677375161, 0.6399405239825323, 0.07140734549161376, 0.43720203559271664, 0.10176151754690765, 0.7433019072477375, 0.7298685597910065, 0.6881467520900819, 0.29497156685834736, 0.04786227111418273, 0.7470671374568445, 0.27273689321335937, 0.24826994628074284, 0.6154034021910667, 0.27955101581897657, 0.24396737172320682, 0.3139056558180985, 0.7380909912385805, 0.24741484290371496, 0.04280605276097105, 0.08265374199233666, 0.5609532563680419, 0.9750395208497857, 0.0417615655009711, 0.3872860338224471, 0.8873794690626547, 0.1268928754021964, 0.3036920972159284, 0.8834383306944658, 0.9611994513613876, 0.9939612010871237, 0.4206545219408381, 0.6504251088782486, 0.8865514410597548, 0.3250502725940174, 0.678012438034994, 0.49720001442947215, 0.7161722303503623, 0.542125174377803, 0.39741403763065364, 0.3866517251132935, 0.0014647977333176465, 0.2514091450984344, 0.2617450099238978, 0.6702691860038512, 0.5837957206298436, 0.46395068111424786, 0.5742917068078063, 0.29350436964595383, 0.07304541194072278, 0.5638219322571733, 0.3101284671365694, 0.08075930185295455, 0.6233924396195241, 0.9449407147027636, 0.3555510376166965, 0.3611705357970295, 0.8373602581198136, 0.2834734183565306, 0.037752854778017264, 0.9893336964818221, 0.7223844065601738, 0.15179840311142234, 0.2864474456156161, 0.48740169730091554, 0.056811458272553295, 0.4009163859159319, 0.8059886403658978, 0.6053726140715416, 0.7247177209565163, 0.9751085665679243]\n",
            "The sum is: 100.13172246422357\n"
          ]
        }
      ],
      "source": [
        "import random\n",
        "number_list = []\n",
        "y = 0\n",
        "\n",
        "while True:\n",
        "  x = random.random()\n",
        "  number_list.append(x)\n",
        "  y += x\n",
        "\n",
        "  if y > 100:\n",
        "    break\n",
        "\n",
        "print(\"You have inputed:\", number_list) \n",
        "print(\"The sum is:\", y)   \n"
      ]
    },
    {
      "cell_type": "markdown",
      "metadata": {
        "id": "HNN2oT4M2CAF"
      },
      "source": [
        "3. Create a while loop that repeatedly takes user input and appends it to a list, but only if the input is a unique string."
      ]
    },
    {
      "cell_type": "code",
      "execution_count": null,
      "metadata": {
        "vscode": {
          "languageId": "plaintext"
        },
        "colab": {
          "base_uri": "https://localhost:8080/"
        },
        "id": "Pm-rLV-F2CAF",
        "outputId": "4e9ae629-6816-436d-8429-ddd3b4c4d68c"
      },
      "outputs": [
        {
          "output_type": "stream",
          "name": "stdout",
          "text": [
            "Enter user input: alo\n",
            "Enter user input: alo\n",
            "Enter user input: done\n",
            "You have inputed:  ['alo', 'done']\n"
          ]
        }
      ],
      "source": [
        "user_list = []\n",
        "\n",
        "while True:\n",
        "  y = input('Enter user input: ')\n",
        "\n",
        "  if  y not in user_list:\n",
        "    user_list.append(y)\n",
        "\n",
        "  if y == \"done\":\n",
        "    break\n",
        "\n",
        "\n",
        "print(\"You have inputed:\", user_list)\n"
      ]
    },
    {
      "cell_type": "markdown",
      "metadata": {
        "id": "TkWem2FW2CAF"
      },
      "source": [
        "4. Create a while loop that repeatedly takes user input and appends it to a list, but only if the input is a number greater than 10."
      ]
    },
    {
      "cell_type": "code",
      "execution_count": null,
      "metadata": {
        "vscode": {
          "languageId": "plaintext"
        },
        "colab": {
          "base_uri": "https://localhost:8080/"
        },
        "id": "dqQlNSrJ2CAF",
        "outputId": "aa7b2694-ff34-4f6d-cfd0-bc70f3ea6c81"
      },
      "outputs": [
        {
          "output_type": "stream",
          "name": "stdout",
          "text": [
            "Enter user input: 3\n",
            "Enter user input: 23\n",
            "Enter user input: 111\n",
            "Enter user input: 10\n",
            "Enter user input: done\n",
            "You have inputed: [23, 111]\n"
          ]
        }
      ],
      "source": [
        "user_list = []\n",
        "\n",
        "while True:\n",
        "\n",
        "  y = input('Enter user input: ')\n",
        "\n",
        "  if y == \"done\":\n",
        "    break\n",
        "  else:\n",
        "    y = int(y)\n",
        "    if y > 10:\n",
        "      user_list.append(y)\n",
        "\n",
        "print(\"You have inputed:\", user_list)"
      ]
    },
    {
      "cell_type": "markdown",
      "metadata": {
        "id": "RGSBbPyU2CAF"
      },
      "source": [
        "5. Create a while loop that repeatedly takes user input and keeps track of the highest number entered until the user enters \"done\"."
      ]
    },
    {
      "cell_type": "code",
      "execution_count": null,
      "metadata": {
        "vscode": {
          "languageId": "plaintext"
        },
        "colab": {
          "base_uri": "https://localhost:8080/"
        },
        "id": "Ms1E-j2O2CAG",
        "outputId": "b101ea31-cb16-485c-ca4b-27a007e9dea2"
      },
      "outputs": [
        {
          "output_type": "stream",
          "name": "stdout",
          "text": [
            "Enter user input: 10\n",
            "Enter user input: 11\n",
            "Enter user input: 3\n",
            "Enter user input: 24\n",
            "Enter user input: 0\n",
            "Enter user input: 7\n",
            "Enter user input: done\n",
            "The highest number is: 24\n"
          ]
        }
      ],
      "source": [
        "x = 0\n",
        "\n",
        "while True:\n",
        "\n",
        "  y = input('Enter user input: ')\n",
        "\n",
        "  if y == \"done\":\n",
        "    break\n",
        "  else:\n",
        "    y = int(y)\n",
        "    if y > x:\n",
        "      x = y\n",
        "\n",
        "print(\"The highest number is:\", x)"
      ]
    }
  ],
  "metadata": {
    "language_info": {
      "name": "python"
    },
    "orig_nbformat": 4,
    "colab": {
      "provenance": [],
      "include_colab_link": true
    },
    "kernelspec": {
      "name": "python3",
      "display_name": "Python 3"
    },
    "gpuClass": "standard"
  },
  "nbformat": 4,
  "nbformat_minor": 0
}