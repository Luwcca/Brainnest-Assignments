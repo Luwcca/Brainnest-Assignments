{
  "cells": [
    {
      "cell_type": "markdown",
      "metadata": {
        "id": "view-in-github",
        "colab_type": "text"
      },
      "source": [
        "<a href=\"https://colab.research.google.com/github/Luwcca/Brainnest-Assignments/blob/main/regex.ipynb\" target=\"_parent\"><img src=\"https://colab.research.google.com/assets/colab-badge.svg\" alt=\"Open In Colab\"/></a>"
      ]
    },
    {
      "cell_type": "markdown",
      "metadata": {
        "id": "I6tLaro5ur-N"
      },
      "source": [
        "1.  Write a regular expression that matches a date in the format dd/mm/yyyy. For example, the string \"01/01/2021\" should match."
      ]
    },
    {
      "cell_type": "code",
      "execution_count": null,
      "metadata": {
        "id": "hX05zZ88ur-R",
        "colab": {
          "base_uri": "https://localhost:8080/"
        },
        "outputId": "35ca4cc2-c964-40fb-bc87-625a413c920f"
      },
      "outputs": [
        {
          "output_type": "stream",
          "name": "stdout",
          "text": [
            "['03/05/2023']\n"
          ]
        }
      ],
      "source": [
        "import re\n",
        "\n",
        "p = re.compile(r\"[0-3][0-9]\\/[0-1][0-9]\\/\\d+\")\n",
        "\n",
        "print(p.findall(\"Today is 03/05/2023\"))\n"
      ]
    },
    {
      "cell_type": "markdown",
      "metadata": {
        "id": "DV22v-4nur-R"
      },
      "source": [
        "2. Write a regular expression that matches a phone number in the format xxx-xxx-xxxx, where x is a digit. For example, the string \"123-456-7890\" should match."
      ]
    },
    {
      "cell_type": "code",
      "execution_count": null,
      "metadata": {
        "id": "eKbsL8XSur-S",
        "colab": {
          "base_uri": "https://localhost:8080/"
        },
        "outputId": "7631e6fb-c556-4afc-c49b-52ee8e751787"
      },
      "outputs": [
        {
          "output_type": "stream",
          "name": "stdout",
          "text": [
            "['123-456-7890']\n"
          ]
        }
      ],
      "source": [
        "import re\n",
        "\n",
        "p = re.compile(r\"[0-9]{3}\\-[0-9]{3}\\-[0-9]{4}\")\n",
        "\n",
        "print(p.findall(\"Here is my phone number 123-456-7890\"))\n"
      ]
    },
    {
      "cell_type": "markdown",
      "metadata": {
        "id": "bRosiISYur-S"
      },
      "source": [
        "3. Write a regular expression that matches a valid email address. For example, the string \"example@example.com\" should match."
      ]
    },
    {
      "cell_type": "code",
      "execution_count": null,
      "metadata": {
        "id": "4JUmAK1kur-S",
        "colab": {
          "base_uri": "https://localhost:8080/"
        },
        "outputId": "ac16a4d4-9e7c-4276-bdcf-90c12e7cce9b"
      },
      "outputs": [
        {
          "output_type": "stream",
          "name": "stdout",
          "text": [
            "['example@example.com']\n"
          ]
        }
      ],
      "source": [
        "import re\n",
        "\n",
        "p = re.compile(r\"[a-zA-Z0-9\\.\\-_]+@{1}[a-zA-Z0-9]+\\.{1}[a-zA-Z]{2,3}\")\n",
        "\n",
        "print(p.findall(\"Here is my email example@example.com\"))"
      ]
    },
    {
      "cell_type": "markdown",
      "metadata": {
        "id": "sin3HefSur-S"
      },
      "source": [
        "4. Write a regular expression that matches a string that starts with a word, followed by one or more whitespace characters, followed by another word. For example, the string \"hello world\" should match."
      ]
    },
    {
      "cell_type": "code",
      "execution_count": null,
      "metadata": {
        "id": "09P9odo8ur-T",
        "colab": {
          "base_uri": "https://localhost:8080/"
        },
        "outputId": "f5402f3a-9f17-4984-9b71-723534eff5f4"
      },
      "outputs": [
        {
          "output_type": "stream",
          "name": "stdout",
          "text": [
            "['Hello world']\n"
          ]
        }
      ],
      "source": [
        "import re\n",
        "\n",
        "p = re.compile(r\"\\w+\\s{1,3}\\w+\")\n",
        "\n",
        "print(p.findall(\"Hello world\"))"
      ]
    },
    {
      "cell_type": "markdown",
      "metadata": {
        "id": "fVF3TC-uur-T"
      },
      "source": [
        "5. Write a regular expression that matches a string that contains a number with exactly two decimal places. For example, the string \"1.23\" should match, but the string \"1.234\" should not match."
      ]
    },
    {
      "cell_type": "code",
      "execution_count": null,
      "metadata": {
        "id": "5ORE7NuKur-T",
        "colab": {
          "base_uri": "https://localhost:8080/"
        },
        "outputId": "e42ee76b-b315-4e59-98c7-2ef58abb1819"
      },
      "outputs": [
        {
          "output_type": "stream",
          "name": "stdout",
          "text": [
            "['31.45']\n"
          ]
        }
      ],
      "source": [
        "import re\n",
        "\n",
        "p = re.compile(r\"\\d+\\.\\d{2}\\b\")\n",
        "\n",
        "print(p.findall(\"31.45, 1, 1.234\"))"
      ]
    }
  ],
  "metadata": {
    "kernelspec": {
      "display_name": "Python 3",
      "language": "python",
      "name": "python3"
    },
    "language_info": {
      "name": "python",
      "version": "3.10.9 (tags/v3.10.9:1dd9be6, Dec  6 2022, 20:01:21) [MSC v.1934 64 bit (AMD64)]"
    },
    "orig_nbformat": 4,
    "vscode": {
      "interpreter": {
        "hash": "f7a5be651532581cb44625d52e18aa1d390cab54bc6b51099d8c30bea9b68219"
      }
    },
    "colab": {
      "provenance": [],
      "include_colab_link": true
    }
  },
  "nbformat": 4,
  "nbformat_minor": 0
}