{
  "cells": [
    {
      "cell_type": "markdown",
      "metadata": {
        "id": "view-in-github",
        "colab_type": "text"
      },
      "source": [
        "<a href=\"https://colab.research.google.com/github/Luwcca/Brainnest-Assignments/blob/main/tuples.ipynb\" target=\"_parent\"><img src=\"https://colab.research.google.com/assets/colab-badge.svg\" alt=\"Open In Colab\"/></a>"
      ]
    },
    {
      "cell_type": "markdown",
      "metadata": {
        "id": "IsFiZhWKqrTN"
      },
      "source": [
        "1. Write a function to find the most common elements in a tuple."
      ]
    },
    {
      "cell_type": "code",
      "execution_count": null,
      "metadata": {
        "colab": {
          "base_uri": "https://localhost:8080/"
        },
        "id": "3Aekv8LmqrTQ",
        "outputId": "de14a6cb-9198-4a41-beca-4b8e0c6e4953"
      },
      "outputs": [
        {
          "output_type": "stream",
          "name": "stdout",
          "text": [
            "The most common number was: 2\n",
            "The number appeared 5 times\n"
          ]
        }
      ],
      "source": [
        "tuple1 = (1, 1 , 2, 2, 2, 3, 2, 4, 1, 5 , 5 , 3 , 2)\n",
        "\n",
        "def most_frequent(tuples):\n",
        "    count = 0\n",
        "    num = 0\n",
        "     \n",
        "    for i in tuples:\n",
        "        freq = tuples.count(i)\n",
        "        if(freq> count):\n",
        "            count = freq\n",
        "            num = i\n",
        "    return num, count\n",
        "\n",
        "print(\"The most common number was:\", most_frequent(tuple1)[0])\n",
        "print(\"The number appeared\", most_frequent(tuple1)[1],\"times\")\n"
      ]
    },
    {
      "cell_type": "markdown",
      "metadata": {
        "id": "oMuK7EYrqrTR"
      },
      "source": [
        "2. Write a function to check if a given tuple is a palindrome, meaning the elements are the same in reverse order."
      ]
    },
    {
      "cell_type": "code",
      "execution_count": null,
      "metadata": {
        "colab": {
          "base_uri": "https://localhost:8080/"
        },
        "id": "wgFFNZu9qrTS",
        "outputId": "51a99d9d-5713-4f43-9972-e540813c1443"
      },
      "outputs": [
        {
          "output_type": "stream",
          "name": "stdout",
          "text": [
            "The tuple1 is a plaindrome?  No, it isn't\n",
            "The tuple2 is a plaindrome?  Yes, it is\n"
          ]
        }
      ],
      "source": [
        "tuple1 = (1, 2 , 3, 4, 5)\n",
        "tuple2 = (1, 2, 3, 2, 1)\n",
        "\n",
        "def is_palindrome(tuples):\n",
        "  if tuples == tuples[::-1]:\n",
        "    return \"Yes, it is\"\n",
        "  else:\n",
        "    return \"No, it isn't\"\n",
        "\n",
        "print(\"The tuple1 is a plaindrome? \", is_palindrome(tuple1))\n",
        "print(\"The tuple2 is a plaindrome? \", is_palindrome(tuple2))"
      ]
    },
    {
      "cell_type": "markdown",
      "metadata": {
        "id": "Qg-BDFKWqrTS"
      },
      "source": [
        "3. Write a function to find the frequency of elements in a tuple, and return a dictionary mapping each element to its frequency."
      ]
    },
    {
      "cell_type": "code",
      "execution_count": 50,
      "metadata": {
        "colab": {
          "base_uri": "https://localhost:8080/"
        },
        "id": "zoxv4duFqrTS",
        "outputId": "ed7d68a6-4516-4f10-80f6-9dd5fca61baa"
      },
      "outputs": [
        {
          "output_type": "stream",
          "name": "stdout",
          "text": [
            "The frequency of the elements on the tuple is: {1: 3, 2: 5, 3: 2, 4: 1, 5: 2}\n"
          ]
        }
      ],
      "source": [
        "tuple1 = (1, 1 , 2, 2, 2, 3, 2, 4, 1, 5 , 5 , 3 , 2)\n",
        "\n",
        "def frequency(tuples):\n",
        "    count = 0\n",
        "    num = 0\n",
        "    dicti = {}\n",
        "    y = []\n",
        "    for i in tuples:\n",
        "      if i not in y:\n",
        "        dicti[i] = tuples.count(i)\n",
        "        y.append(i)\n",
        "\n",
        "\n",
        "    return dicti\n",
        "\n",
        "print(\"The frequency of the elements on the tuple is:\", frequency(tuple1))"
      ]
    },
    {
      "cell_type": "markdown",
      "metadata": {
        "id": "baWTQrXhqrTS"
      },
      "source": [
        "4. Write a function that takes a tuple as an argument and returns a new tuple with only the even elements from the original tuple."
      ]
    },
    {
      "cell_type": "code",
      "execution_count": null,
      "metadata": {
        "colab": {
          "base_uri": "https://localhost:8080/"
        },
        "id": "JUMx3p_dqrTT",
        "outputId": "73ee6e4b-f1e7-4c98-e672-a7847b0711e9"
      },
      "outputs": [
        {
          "output_type": "stream",
          "name": "stdout",
          "text": [
            "The even numbers on the tuple is: (2, 4, 6, 8, 10)\n"
          ]
        }
      ],
      "source": [
        "tuple1 = (1, 2 , 3, 4, 5, 6, 7, 8 , 10)\n",
        "\n",
        "def just_even(tuples):\n",
        "  x = []\n",
        "  for i in tuples:\n",
        "    if i%2 == 0:\n",
        "      x.append(i)\n",
        "  x = tuple(x)\n",
        "  return x\n",
        "\n",
        "print(\"The even numbers on the tuple is:\", just_even(tuple1))"
      ]
    },
    {
      "cell_type": "markdown",
      "metadata": {
        "id": "ZnyBFuBkqrTT"
      },
      "source": [
        "5. Write a function to find all unique elements in a tuple and return them in a new tuple."
      ]
    },
    {
      "cell_type": "code",
      "source": [
        "tuple1 = (1, 1 ,7, 2, 3, 2, 4, 1, 5 , 5 , 3 , 2, 6)\n",
        "\n",
        "def unique(tuples):\n",
        "  x = []\n",
        "  for i in tuples:\n",
        "    if tuples.count(i) == 1:\n",
        "      x.append(i)\n",
        "  x = tuple(x)\n",
        "  return x\n",
        "\n",
        "print(\"Here is all the unique elements on the tuple:\", unique(tuple1))"
      ],
      "metadata": {
        "colab": {
          "base_uri": "https://localhost:8080/"
        },
        "id": "FzwMFE3sAXR2",
        "outputId": "e4ed166d-dd16-4de4-c11f-9c4096d0166a"
      },
      "execution_count": null,
      "outputs": [
        {
          "output_type": "stream",
          "name": "stdout",
          "text": [
            "Here is all the unique elements on the tuple: (7, 4, 6)\n"
          ]
        }
      ]
    }
  ],
  "metadata": {
    "kernelspec": {
      "display_name": "Python 3",
      "language": "python",
      "name": "python3"
    },
    "language_info": {
      "name": "python",
      "version": "3.10.9 (tags/v3.10.9:1dd9be6, Dec  6 2022, 20:01:21) [MSC v.1934 64 bit (AMD64)]"
    },
    "orig_nbformat": 4,
    "vscode": {
      "interpreter": {
        "hash": "f7a5be651532581cb44625d52e18aa1d390cab54bc6b51099d8c30bea9b68219"
      }
    },
    "colab": {
      "provenance": [],
      "include_colab_link": true
    }
  },
  "nbformat": 4,
  "nbformat_minor": 0
}