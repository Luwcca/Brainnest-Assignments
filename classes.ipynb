{
  "cells": [
    {
      "cell_type": "markdown",
      "metadata": {
        "id": "view-in-github",
        "colab_type": "text"
      },
      "source": [
        "<a href=\"https://colab.research.google.com/github/Luwcca/Brainnest-Assignments/blob/main/classes.ipynb\" target=\"_parent\"><img src=\"https://colab.research.google.com/assets/colab-badge.svg\" alt=\"Open In Colab\"/></a>"
      ]
    },
    {
      "cell_type": "markdown",
      "metadata": {
        "id": "z8AW-Cdm66EP"
      },
      "source": [
        "1. Create a class called Rectangle that has attributes width and height. Add methods area and perimeter that calculate the area and perimeter of the rectangle, respectively."
      ]
    },
    {
      "cell_type": "code",
      "execution_count": null,
      "metadata": {
        "id": "Dux7N7la66Eg",
        "colab": {
          "base_uri": "https://localhost:8080/"
        },
        "outputId": "f5502ecb-6fb0-412f-d430-25d157fb2a74"
      },
      "outputs": [
        {
          "output_type": "stream",
          "name": "stdout",
          "text": [
            "The area is : 100\n",
            "The perimeter is: 40\n"
          ]
        }
      ],
      "source": [
        "class Rectangle:\n",
        "  def __init__(self, width, height):\n",
        "    self.width = width\n",
        "    self.height = height\n",
        "  \n",
        "  def Area(self):\n",
        "    print(\"The area is :\", self.width*self.height)\n",
        "\n",
        "  def Perimeter(self):\n",
        "    print(\"The perimeter is:\", 2*self.width + 2*self.height)\n",
        "\n",
        "x = Rectangle(10, 10)\n",
        "\n",
        "x.Area()\n",
        "x.Perimeter()\n"
      ]
    },
    {
      "cell_type": "markdown",
      "metadata": {
        "id": "J1vy4afP66El"
      },
      "source": [
        "2. Create a class called Circle that has attribute radius. Add methods area and circumference that calculate the area and circumference of the circle, respectively."
      ]
    },
    {
      "cell_type": "code",
      "execution_count": null,
      "metadata": {
        "id": "z4cWltMu66Eo",
        "colab": {
          "base_uri": "https://localhost:8080/"
        },
        "outputId": "97f9c725-1ba1-442c-9a46-7507f0a5509c"
      },
      "outputs": [
        {
          "output_type": "stream",
          "name": "stdout",
          "text": [
            "The area is : 25.12\n",
            "The circumference is: 62.800000000000004\n"
          ]
        }
      ],
      "source": [
        "class Circle:\n",
        "  def __init__(self, radius):\n",
        "    self.radius = radius\n",
        "  \n",
        "  def Area(self):\n",
        "    print(\"The area is :\", (self.radius^2)*3.14)\n",
        "\n",
        "  def Circumference(self):\n",
        "    print(\"The circumference is:\", 2*3.14*self.radius)\n",
        "\n",
        "x = Circle(10)\n",
        "\n",
        "x.Area()\n",
        "x.Circumference()"
      ]
    },
    {
      "cell_type": "markdown",
      "metadata": {
        "id": "c-sO3RJP66Eq"
      },
      "source": [
        "3. Create a class called Car that has attributes make, model, and year. Add methods start and stop that simulate starting and stopping the car, respectively."
      ]
    },
    {
      "cell_type": "code",
      "execution_count": null,
      "metadata": {
        "id": "SmbrGqxi66Et"
      },
      "outputs": [],
      "source": []
    },
    {
      "cell_type": "markdown",
      "metadata": {
        "id": "nA__XRGB66Eu"
      },
      "source": [
        "4. Create a class called Dice that has attribute sides (the number of sides on the dice). Add a method roll that generates a random number between 1 and the number of sides on the dice."
      ]
    },
    {
      "cell_type": "code",
      "execution_count": null,
      "metadata": {
        "id": "FAxHPil666Ex"
      },
      "outputs": [],
      "source": []
    },
    {
      "cell_type": "markdown",
      "metadata": {
        "id": "g5rQdoVR66Ey"
      },
      "source": [
        "5. Create a class called Temperature that has attribute celsius (a temperature in degrees Celsius). Add methods to_fahrenheit and to_kelvin that convert the temperature to degrees Fahrenheit and Kelvin, respectively."
      ]
    },
    {
      "cell_type": "code",
      "execution_count": null,
      "metadata": {
        "id": "H63rnHOA66E0",
        "colab": {
          "base_uri": "https://localhost:8080/"
        },
        "outputId": "a2b2f33b-5985-49a2-d30c-0f34b3660827"
      },
      "outputs": [
        {
          "output_type": "stream",
          "name": "stdout",
          "text": [
            "The temperature in Kelvin is: 283.15\n",
            "The temperature in Fahrenheit is: 50.0\n"
          ]
        }
      ],
      "source": [
        "class Temperature:\n",
        "  def __init__(self, celsius):\n",
        "    self.celsius = celsius\n",
        "  \n",
        "  def to_kelvin(self):\n",
        "    print(\"The temperature in Kelvin is:\", self.celsius + 273.15)\n",
        "  \n",
        "  def to_fahrenheit(self):\n",
        "    print(\"The temperature in Fahrenheit is:\", self.celsius*9/5 + 32)\n",
        "\n",
        "x = Temperature(10)\n",
        "\n",
        "x.to_kelvin()\n",
        "x.to_fahrenheit()"
      ]
    },
    {
      "cell_type": "markdown",
      "metadata": {
        "id": "G8VwoxHJ66E1"
      },
      "source": [
        "6. Create a class called Book that has attributes title, author, and publication_year. Add a method get_age that calculates how many years ago the book was published."
      ]
    },
    {
      "cell_type": "code",
      "execution_count": null,
      "metadata": {
        "id": "VTDVJmo166E4",
        "colab": {
          "base_uri": "https://localhost:8080/"
        },
        "outputId": "9fd689ab-dbea-4e61-dd0c-3e9e8e9fe97b"
      },
      "outputs": [
        {
          "output_type": "stream",
          "name": "stdout",
          "text": [
            "The book Harry Potter: Philosopher's Stone by J. K. Rowling was published 26 years ago\n"
          ]
        }
      ],
      "source": [
        "class Book:\n",
        "  def __init__(self, title, author, publication_year):\n",
        "    self.title = title\n",
        "    self.author = author\n",
        "    self.publication_year = publication_year\n",
        "\n",
        "  def get_age(self):\n",
        "    print(\"The book\", self.title, \"by\",self.author,\"was published\", 2023 - self.publication_year ,\"years ago\")\n",
        "\n",
        "\n",
        "x = Book(\"Harry Potter: Philosopher's Stone\", \"J. K. Rowling\", 1997)\n",
        "\n",
        "x.get_age()\n"
      ]
    },
    {
      "cell_type": "markdown",
      "metadata": {
        "id": "vnaeXJw766E5"
      },
      "source": [
        "7. Create a class called Rectangle that has attributes width and height. Add methods __str__ and __repr__ that return a string representation of the rectangle object."
      ]
    },
    {
      "cell_type": "code",
      "execution_count": null,
      "metadata": {
        "id": "woXMYlsJ66E8",
        "colab": {
          "base_uri": "https://localhost:8080/"
        },
        "outputId": "a1a36141-ec7e-48a7-be53-e9715358c05f"
      },
      "outputs": [
        {
          "output_type": "stream",
          "name": "stdout",
          "text": [
            "10\n"
          ]
        }
      ],
      "source": []
    }
  ],
  "metadata": {
    "language_info": {
      "name": "python"
    },
    "orig_nbformat": 4,
    "colab": {
      "provenance": [],
      "include_colab_link": true
    },
    "kernelspec": {
      "name": "python3",
      "display_name": "Python 3"
    },
    "gpuClass": "standard"
  },
  "nbformat": 4,
  "nbformat_minor": 0
}