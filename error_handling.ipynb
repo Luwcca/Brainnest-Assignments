{
  "cells": [
    {
      "cell_type": "markdown",
      "metadata": {
        "id": "view-in-github",
        "colab_type": "text"
      },
      "source": [
        "<a href=\"https://colab.research.google.com/github/Luwcca/Brainnest-Assignments/blob/main/error_handling.ipynb\" target=\"_parent\"><img src=\"https://colab.research.google.com/assets/colab-badge.svg\" alt=\"Open In Colab\"/></a>"
      ]
    },
    {
      "cell_type": "markdown",
      "metadata": {
        "id": "6lDIFZUb9H2N"
      },
      "source": [
        "1. Write a function that takes a list of integers as an argument, and returns the sum of the integers. Use a try-except block to catch any ValueError exceptions that may be raised when attempting to convert a string to an integer."
      ]
    },
    {
      "cell_type": "code",
      "execution_count": 8,
      "metadata": {
        "colab": {
          "base_uri": "https://localhost:8080/"
        },
        "id": "tdwQYxPo9H2O",
        "outputId": "e3345791-ed2c-4323-9838-1aeb3fa6d096"
      },
      "outputs": [
        {
          "output_type": "stream",
          "name": "stdout",
          "text": [
            "ai is not a integer\n",
            "b is not a integer\n",
            "The sum is equal to 6\n"
          ]
        }
      ],
      "source": [
        "intlist = [1,\"ai\",2,3, \"b\"]\n",
        "\n",
        "def sum(list):\n",
        "  sum = 0\n",
        "  for i in list:\n",
        "    try:\n",
        "      i = int(i)\n",
        "      sum += i\n",
        "    except(ValueError):\n",
        "      print(i,\"is not a integer\")\n",
        "  return sum\n",
        "\n",
        "\n",
        "print(\"The sum is equal to\",sum(intlist))  "
      ]
    },
    {
      "cell_type": "markdown",
      "metadata": {
        "id": "gw5vkgHf9H2P"
      },
      "source": [
        "2. Write a function that takes a filename as an argument, and attempts to open the file. Use a try-except block to catch any FileNotFoundError exceptions that may be raised when attempting to open the file. If the file is successfully opened, the function should return the contents of the file."
      ]
    },
    {
      "cell_type": "code",
      "execution_count": 4,
      "metadata": {
        "id": "2LZvGtAc9H2P",
        "colab": {
          "base_uri": "https://localhost:8080/"
        },
        "outputId": "7b5cc41a-26f8-43bc-aa09-fe9dceabc12b"
      },
      "outputs": [
        {
          "output_type": "stream",
          "name": "stdout",
          "text": [
            "alo\n",
            "File not found\n"
          ]
        }
      ],
      "source": [
        "def open_file(filename):\n",
        "  try:\n",
        "    f = open(filename)\n",
        "    return print(f.read())\n",
        "  except:\n",
        "    print(\"File not found\")\n",
        "  \n",
        "\n",
        "open_file(input())"
      ]
    },
    {
      "cell_type": "markdown",
      "metadata": {
        "id": "JK2YE-VN9H2P"
      },
      "source": [
        "3. Write a function that takes a list of strings as an argument, and returns a new list containing only the strings that can be successfully converted to a float. Use a try-except block to catch any ValueError exceptions that may be raised when attempting to convert a string to a float."
      ]
    },
    {
      "cell_type": "code",
      "execution_count": 10,
      "metadata": {
        "id": "2UCfCUNC9H2P",
        "colab": {
          "base_uri": "https://localhost:8080/"
        },
        "outputId": "3b6d6d79-5d81-4620-ee70-3fdc1451bb5b"
      },
      "outputs": [
        {
          "output_type": "stream",
          "name": "stdout",
          "text": [
            "Converting ['1', 'ai', '2', '3', 'b', '1.5'] to float\n",
            "ai can't be converted to float\n",
            "b can't be converted to float\n",
            "The converted list is: [1.0, 2.0, 3.0, 1.5]\n"
          ]
        }
      ],
      "source": [
        "strlist = [\"1\",\"ai\",\"2\",\"3\", \"b\", \"1.5\"]\n",
        "\n",
        "def str_to_float(list):\n",
        "  floatlist = []\n",
        "  for i in list:\n",
        "    try:\n",
        "      floatlist.append(float(i))\n",
        "    except:\n",
        "      print(i,\"can't be converted to float\")\n",
        "  return floatlist\n",
        "\n",
        "print(\"Converting\", strlist,\"to float\")\n",
        "print(\"The converted list is:\", str_to_float(strlist))"
      ]
    },
    {
      "cell_type": "markdown",
      "metadata": {
        "id": "oJ_erZu19H2Q"
      },
      "source": [
        "4. Write a function that takes a list of dictionaries as an argument, and returns the value of a specified key from each dictionary. Use a try-except block to catch any KeyError exceptions that may be raised when attempting to access a key that does not exist in a dictionary."
      ]
    },
    {
      "cell_type": "code",
      "execution_count": 16,
      "metadata": {
        "id": "wSeVQd8l9H2Q",
        "colab": {
          "base_uri": "https://localhost:8080/"
        },
        "outputId": "a58eb634-73e8-4887-a362-980ad45a67e7"
      },
      "outputs": [
        {
          "output_type": "stream",
          "name": "stdout",
          "text": [
            "Digit the dictionary key:1\n",
            "banana\n",
            "The key 1 was not found on dictionary {'4': 'banana juice', '2': 'apple juice', '3': 'cherry juice'}\n",
            "banana bread\n"
          ]
        }
      ],
      "source": [
        "dict_list = [{\"1\": \"banana\" , \"2\":\"apple\", \"3\":\"cherry\"}, {\"4\": \"banana juice\" , \"2\":\"apple juice\", \"3\":\"cherry juice\"}, {\"1\": \"banana bread\" , \"2\":\"apple pie \", \"3\":\"cherry pie\"},]\n",
        "\n",
        "def dict_key(dict, key):\n",
        "  for i in dict:\n",
        "    try:\n",
        "      print(i[key])\n",
        "    except:\n",
        "      print(\"The key\", key,\"was not found on dictionary\", i)\n",
        "  \n",
        "dict_key(dict_list,input(\"Digit the dictionary key:\"))"
      ]
    },
    {
      "cell_type": "markdown",
      "metadata": {
        "id": "5hYkEEjn9H2Q"
      },
      "source": [
        "5. Write a function that takes a list of integers as an argument, and returns the largest integer in the list. Use a try-except block to catch any ValueError exceptions that may be raised when attempting to compare elements that are not integers."
      ]
    },
    {
      "cell_type": "code",
      "execution_count": 17,
      "metadata": {
        "id": "4sr2Kj389H2Q",
        "colab": {
          "base_uri": "https://localhost:8080/"
        },
        "outputId": "72753c63-aa68-4b94-f976-74418762cb84"
      },
      "outputs": [
        {
          "output_type": "stream",
          "name": "stdout",
          "text": [
            "a isn't a integer\n",
            "b isn't a integer\n",
            "The largest integer on the list is: 5\n"
          ]
        }
      ],
      "source": [
        "intlist = [1,\"a\", 2 , 3 , \"b\", 5]\n",
        "\n",
        "def largest(list):\n",
        "  big = 0\n",
        "  for i in list:\n",
        "    try:\n",
        "      if i > big:\n",
        "        big = i\n",
        "    except:\n",
        "      print(i,\"isn't a integer\")\n",
        "  return big\n",
        "\n",
        "print(\"The largest integer on the list is:\", largest(intlist))"
      ]
    }
  ],
  "metadata": {
    "kernelspec": {
      "display_name": "Python 3",
      "language": "python",
      "name": "python3"
    },
    "language_info": {
      "name": "python",
      "version": "3.10.9"
    },
    "orig_nbformat": 4,
    "vscode": {
      "interpreter": {
        "hash": "f7a5be651532581cb44625d52e18aa1d390cab54bc6b51099d8c30bea9b68219"
      }
    },
    "colab": {
      "provenance": [],
      "include_colab_link": true
    }
  },
  "nbformat": 4,
  "nbformat_minor": 0
}