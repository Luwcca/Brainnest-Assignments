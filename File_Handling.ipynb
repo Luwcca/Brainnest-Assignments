{
  "nbformat": 4,
  "nbformat_minor": 0,
  "metadata": {
    "colab": {
      "provenance": [],
      "authorship_tag": "ABX9TyNEJMR/iS+oQDD2XXrc8GCd",
      "include_colab_link": true
    },
    "kernelspec": {
      "name": "python3",
      "display_name": "Python 3"
    },
    "language_info": {
      "name": "python"
    }
  },
  "cells": [
    {
      "cell_type": "markdown",
      "metadata": {
        "id": "view-in-github",
        "colab_type": "text"
      },
      "source": [
        "<a href=\"https://colab.research.google.com/github/Luwcca/Brainnest-Assignments/blob/main/File_Handling.ipynb\" target=\"_parent\"><img src=\"https://colab.research.google.com/assets/colab-badge.svg\" alt=\"Open In Colab\"/></a>"
      ]
    },
    {
      "cell_type": "markdown",
      "source": [
        "1. Write a Python program that reads a text file and prints the number of lines, words, and characters in the file.\n",
        "   "
      ],
      "metadata": {
        "id": "uLKBcimPUy-V"
      }
    },
    {
      "cell_type": "code",
      "source": [
        "f = open(\"test_file.txt\")\n",
        "\n",
        "text = f.read()\n",
        "\n",
        "linenum = text.count(\"\\n\") + 1\n",
        "words = text.split()\n",
        "char = 0\n",
        "\n",
        "for i in words:\n",
        "    for n in i:\n",
        "        char+=1\n",
        "\n",
        "print(\"The text file has\", linenum,\"lines\", len(words),\"words and\", char, \"characters\")\n",
        "\n",
        "f.close()"
      ],
      "metadata": {
        "id": "e-VmW45AU67k"
      },
      "execution_count": null,
      "outputs": []
    },
    {
      "cell_type": "markdown",
      "source": [
        " 2. Write a Python program that reads a CSV file and converts it into a dictionary. Each row of the CSV file should be a key-value pair in the dictionary.\n",
        "    "
      ],
      "metadata": {
        "id": "UQOKjCdUU0jA"
      }
    },
    {
      "cell_type": "code",
      "source": [
        "f = open(\"Test_csv.csv\")\n",
        "\n",
        "row = f.read().split()\n",
        "row2 = []\n",
        "dic_csv = {}\n",
        "\n",
        "for i in row:\n",
        "    row2.append(i.split(\",\"))\n",
        "\n",
        "for i in row2:\n",
        "    dic_csv.update({i[0] : i[1::]})\n",
        "\n",
        "\n",
        "print(dic_csv[\"Frutas\"])\n",
        "\n",
        "f.close()"
      ],
      "metadata": {
        "id": "U6R7MWgnME7W"
      },
      "execution_count": null,
      "outputs": []
    },
    {
      "cell_type": "markdown",
      "source": [
        "3. Write a Python program that reads a binary file and converts it into a hexadecimal string. The program should output the hexadecimal string to a text file.\n",
        "   "
      ],
      "metadata": {
        "id": "UMPuXxVlU1i6"
      }
    },
    {
      "cell_type": "code",
      "source": [
        "f = open(\"binary_file.txt\", \"r\")\n",
        "\n",
        "bin = f.read().split()\n",
        "\n",
        "def bit_to_byte(bin):\n",
        "    byte_list = []\n",
        "    byte = \"\"\n",
        "    count = 0\n",
        "    for i in bin:\n",
        "        for j in i:\n",
        "            count += 1\n",
        "            byte += j\n",
        "            if count == 4:\n",
        "                count = 0\n",
        "                byte_list.append(byte)\n",
        "                byte = \"\"\n",
        "    return byte_list            \n",
        "\n",
        "byte = bit_to_byte(bin)\n",
        "\n",
        "def byte_to_hex(byte):\n",
        "    hex = \"\"\n",
        "    for i in byte:\n",
        "        if i == \"0000\":\n",
        "            hex += \"0\"\n",
        "        elif i == \"0001\":\n",
        "            hex += \"1\"\n",
        "        elif i == \"0010\":\n",
        "            hex += \"2\"\n",
        "        elif i == \"0011\":\n",
        "            hex += \"3\"\n",
        "        elif i == \"0100\":\n",
        "            hex += \"4\"\n",
        "        elif i == \"0101\":\n",
        "            hex += \"5\"\n",
        "        elif i == \"0110\":\n",
        "            hex += \"6\" \n",
        "        elif i == \"0111\":\n",
        "            hex += \"7\"\n",
        "        elif i == \"1000\":\n",
        "            hex += \"8\"\n",
        "        elif i == \"1001\":\n",
        "            hex += \"9\"\n",
        "        elif i == \"1010\":\n",
        "            hex += \"A\"\n",
        "        elif i == \"1011\":\n",
        "            hex += \"B\"\n",
        "        elif i == \"1100\":\n",
        "            hex += \"C\"\n",
        "        elif i == \"1101\":\n",
        "            hex += \"D\"\n",
        "        elif i == \"1110\":\n",
        "            hex += \"E\"\n",
        "        elif i == \"1111\":\n",
        "            hex += \"F\"        \n",
        "    return hex  \n",
        "        \n",
        "g = open(\"Hex_file.txt\", \"w\")\n",
        "g.write(byte_to_hex(byte))\n",
        "f.close()\n",
        "g.close()"
      ],
      "metadata": {
        "id": "FGbodLi4Kl2Y"
      },
      "execution_count": null,
      "outputs": []
    },
    {
      "cell_type": "markdown",
      "source": [
        " 4. Write a Python program that reads a text file containing numbers and calculates the sum of all the numbers in the file.\n",
        "   "
      ],
      "metadata": {
        "id": "yVg2qpvjU2Zn"
      }
    },
    {
      "cell_type": "code",
      "source": [
        "f = open(\"Num_file.txt\")\n",
        "num = f.read().split()\n",
        "sum = 0\n",
        "\n",
        "for i in num:\n",
        "    sum += float(i)\n",
        "\n",
        "print(\"The sum of the numbers on the file is:\", sum)\n",
        "\n",
        "f.close()"
      ],
      "metadata": {
        "id": "rP3hcrZ_OyqO"
      },
      "execution_count": null,
      "outputs": []
    },
    {
      "cell_type": "markdown",
      "source": [
        " 5. Write a Python program that reads a text file and removes all the blank lines. The modified text should be written back to the file."
      ],
      "metadata": {
        "id": "ymwOnkz0U3KV"
      }
    },
    {
      "cell_type": "code",
      "source": [
        "f = open(\"File_with_Blanklines.txt\", \"r\")\n",
        "\n",
        "txt = f.readlines()\n",
        "txt_update = []\n",
        "\n",
        "for i in txt:\n",
        "    if i != \"\\n\":\n",
        "        txt_update.append(i)\n",
        "        \n",
        "f = open(\"File_with_Blanklines.txt\", \"w\")\n",
        "\n",
        "f.write(\"\".join(txt_update))\n",
        "\n",
        "f.close()"
      ],
      "metadata": {
        "id": "MLU9J3qEOxtO"
      },
      "execution_count": null,
      "outputs": []
    }
  ]
}