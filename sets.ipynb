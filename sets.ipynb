{
  "cells": [
    {
      "cell_type": "markdown",
      "metadata": {
        "id": "view-in-github",
        "colab_type": "text"
      },
      "source": [
        "<a href=\"https://colab.research.google.com/github/Luwcca/Brainnest-Assignments/blob/main/sets.ipynb\" target=\"_parent\"><img src=\"https://colab.research.google.com/assets/colab-badge.svg\" alt=\"Open In Colab\"/></a>"
      ]
    },
    {
      "cell_type": "markdown",
      "metadata": {
        "id": "7JGVyRLXO5je"
      },
      "source": [
        "1. Given two sets A and B, write a function to return the symmetric difference between them as a new set. The symmetric difference is the set of elements that are in either A or B, but not in both."
      ]
    },
    {
      "cell_type": "code",
      "execution_count": null,
      "metadata": {
        "colab": {
          "base_uri": "https://localhost:8080/"
        },
        "id": "VmJIKlKuO5jh",
        "outputId": "38f6caf6-e2ed-4f69-aae4-ec033972392e"
      },
      "outputs": [
        {
          "output_type": "stream",
          "name": "stdout",
          "text": [
            "{'yellow', 'purple', 'green'}\n"
          ]
        }
      ],
      "source": [
        "set1 = {\"red\" , \"blue\", \"yellow\",\"purple\"}\n",
        "set2 = {\"red\", \"green\", \"blue\"}\n",
        "\n",
        "def symmetric_difference(set1,set2):\n",
        "  set3 = set()\n",
        "  for i in set1:\n",
        "    if i not in set2:\n",
        "      set3.add(i)\n",
        "  for i in set2:\n",
        "    if i not in set1:\n",
        "      set3.add(i)\n",
        "  return set3          \n",
        "\n",
        "print(symmetric_difference(set1,set2))"
      ]
    },
    {
      "cell_type": "markdown",
      "metadata": {
        "id": "mjCTqdz9O5ji"
      },
      "source": [
        "2. Given a list of numbers, write a function to return a set of all prime numbers from the list."
      ]
    },
    {
      "cell_type": "code",
      "execution_count": null,
      "metadata": {
        "colab": {
          "base_uri": "https://localhost:8080/"
        },
        "id": "Z04geY2JO5ji",
        "outputId": "c7bb1055-73d9-4b7f-fe7c-3e7f48db248b"
      },
      "outputs": [
        {
          "output_type": "stream",
          "name": "stdout",
          "text": [
            "{1, 2, 3, 5, 7, 11, 13, 17}\n"
          ]
        }
      ],
      "source": [
        "numlist = [1,2,3,4,5,6,7,8,9,10,11,12,13,14,15,16,17]\n",
        "\n",
        "def setprime(list):\n",
        "  nonprimelist = []\n",
        "  for i in numlist:\n",
        "    if i != 1 and i > 2:\n",
        "      for j in range(2,i):\n",
        "        if i%j == 0 and  j != i:\n",
        "          nonprimelist.append(i)\n",
        "          break\n",
        "  return set(i for i in numlist if i not in nonprimelist)\n",
        "\n",
        "print(setprime(numlist))"
      ]
    },
    {
      "cell_type": "markdown",
      "metadata": {
        "id": "mOSKswWxO5ji"
      },
      "source": [
        "3. Given a list of words, write a function to return a set of all anagrams in the list."
      ]
    },
    {
      "cell_type": "code",
      "source": [],
      "metadata": {
        "id": "WwEjqsR_8PP7"
      },
      "execution_count": null,
      "outputs": []
    },
    {
      "cell_type": "markdown",
      "metadata": {
        "id": "SCPqrFzeO5jj"
      },
      "source": [
        "4. Given a list of sets, write a function to return the Cartesian product of all sets in the list."
      ]
    },
    {
      "cell_type": "code",
      "source": [],
      "metadata": {
        "id": "4h3aPFIu8QJP"
      },
      "execution_count": null,
      "outputs": []
    }
  ],
  "metadata": {
    "kernelspec": {
      "display_name": "Python 3",
      "language": "python",
      "name": "python3"
    },
    "language_info": {
      "name": "python",
      "version": "3.10.9"
    },
    "orig_nbformat": 4,
    "vscode": {
      "interpreter": {
        "hash": "f7a5be651532581cb44625d52e18aa1d390cab54bc6b51099d8c30bea9b68219"
      }
    },
    "colab": {
      "provenance": [],
      "include_colab_link": true
    }
  },
  "nbformat": 4,
  "nbformat_minor": 0
}