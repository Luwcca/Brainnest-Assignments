{
  "cells": [
    {
      "cell_type": "markdown",
      "metadata": {
        "id": "view-in-github",
        "colab_type": "text"
      },
      "source": [
        "<a href=\"https://colab.research.google.com/github/Luwcca/Brainnest-Assignments/blob/main/for_loop.ipynb\" target=\"_parent\"><img src=\"https://colab.research.google.com/assets/colab-badge.svg\" alt=\"Open In Colab\"/></a>"
      ]
    },
    {
      "cell_type": "markdown",
      "metadata": {
        "id": "bduyCb5ZJjTT"
      },
      "source": [
        "1. Create a for loop that iterates through a list of strings and prints each string in uppercase."
      ]
    },
    {
      "cell_type": "code",
      "execution_count": null,
      "metadata": {
        "colab": {
          "base_uri": "https://localhost:8080/"
        },
        "id": "-Ug46kYxJjTV",
        "outputId": "087c6ad7-e596-4141-9b95-fbdf769947bf"
      },
      "outputs": [
        {
          "output_type": "stream",
          "name": "stdout",
          "text": [
            "BANANA\n",
            "APPLE\n",
            "JUICE\n"
          ]
        }
      ],
      "source": [
        "string_list = [\"banana\", \"apple\", \"juice\"]\n",
        "\n",
        "for i in string_list:\n",
        "  print(i.upper())"
      ]
    },
    {
      "cell_type": "markdown",
      "metadata": {
        "id": "Orc81i31JjTW"
      },
      "source": [
        "2. Create a for loop that iterates through a list of numbers and prints the square of each number."
      ]
    },
    {
      "cell_type": "code",
      "execution_count": null,
      "metadata": {
        "colab": {
          "base_uri": "https://localhost:8080/"
        },
        "id": "Jeqi7CyeJjTW",
        "outputId": "ecd8b096-be2b-4ae8-d5d7-6da000df4955"
      },
      "outputs": [
        {
          "output_type": "stream",
          "name": "stdout",
          "text": [
            "1\n",
            "4\n",
            "16\n",
            "25\n",
            "36\n",
            "49\n"
          ]
        }
      ],
      "source": [
        "num_list = [1,2,4,5,6,7]\n",
        "\n",
        "for i in num_list:\n",
        "  print(i*i)"
      ]
    },
    {
      "cell_type": "markdown",
      "metadata": {
        "id": "x-FrjiEMJjTW"
      },
      "source": [
        "3. Create a for loop that iterates through a list of dictionaries and prints the value of a specified key for each dictionary."
      ]
    },
    {
      "cell_type": "code",
      "execution_count": null,
      "metadata": {
        "colab": {
          "base_uri": "https://localhost:8080/"
        },
        "id": "BufVpAaiJjTW",
        "outputId": "6ca7e16e-416d-4c60-c0fd-1fb1fd47bc6d"
      },
      "outputs": [
        {
          "output_type": "stream",
          "name": "stdout",
          "text": [
            "cherry\n",
            "cherry juice\n",
            "cherry pie\n"
          ]
        }
      ],
      "source": [
        "dict_list = [{1: \"banana\" , 2:\"apple\", 3:\"cherry\"}, {1: \"banana juice\" , 2:\"apple juice\", 3:\"cherry juice\"}, {1: \"banana bread\" , 2:\"apple pie \", 3:\"cherry pie\"},]\n",
        "\n",
        "for i in dict_list:\n",
        "  print(i[3])\n"
      ]
    },
    {
      "cell_type": "markdown",
      "metadata": {
        "id": "qW1-_b1qJjTW"
      },
      "source": [
        "4. Create a for loop that iterates through a list of numbers and prints the largest number in the list."
      ]
    },
    {
      "cell_type": "code",
      "execution_count": null,
      "metadata": {
        "colab": {
          "base_uri": "https://localhost:8080/"
        },
        "id": "hDao2kO3JjTW",
        "outputId": "a7e7714a-210d-407b-fa84-fe465e01ccfe"
      },
      "outputs": [
        {
          "output_type": "stream",
          "name": "stdout",
          "text": [
            "29\n"
          ]
        }
      ],
      "source": [
        "num_list = [1,2,4,5,6,7,3,15,6,13,29,7,8,15]\n",
        "x = 0\n",
        "for i in num_list:\n",
        "  if i > x:\n",
        "    x = i\n",
        "\n",
        "print(x)"
      ]
    },
    {
      "cell_type": "markdown",
      "metadata": {
        "id": "4YSGLUvpJjTX"
      },
      "source": [
        "5. Create a for loop that iterates through a list of lists and prints the sum of the elements in each sub-list."
      ]
    },
    {
      "cell_type": "code",
      "execution_count": null,
      "metadata": {
        "colab": {
          "base_uri": "https://localhost:8080/"
        },
        "id": "bxwxmcvkJjTX",
        "outputId": "aade1f93-7b1c-46c6-8025-018ea2afb653"
      },
      "outputs": [
        {
          "output_type": "stream",
          "name": "stdout",
          "text": [
            "The sum of the elements in sub-list [1, 2, 4, 5] is: 12\n",
            "The sum of the elements in sub-list [6, 7, 3, 15] is: 31\n",
            "The sum of the elements in sub-list [6, 13, 29] is: 48\n",
            "The sum of the elements in sub-list [7, 8, 15] is: 30\n"
          ]
        }
      ],
      "source": [
        "num_list = [[1,2,4,5],[6,7,3,15],[6,13,29],[7,8,15]]\n",
        "\n",
        "for i in num_list:\n",
        "  x = 0\n",
        "  for j in i:\n",
        "    x +=j\n",
        "\n",
        "  print(\"The sum of the elements in sub-list\", i  ,\"is:\", x )\n"
      ]
    }
  ],
  "metadata": {
    "language_info": {
      "name": "python"
    },
    "orig_nbformat": 4,
    "colab": {
      "provenance": [],
      "include_colab_link": true
    },
    "kernelspec": {
      "name": "python3",
      "display_name": "Python 3"
    },
    "gpuClass": "standard"
  },
  "nbformat": 4,
  "nbformat_minor": 0
}